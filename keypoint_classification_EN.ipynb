{
  "cells": [
    {
      "cell_type": "code",
      "execution_count": 26,
      "metadata": {
        "id": "igMyGnjE9hEp"
      },
      "outputs": [],
      "source": [
        "import csv\n",
        "\n",
        "import numpy as np\n",
        "import tensorflow as tf\n",
        "from sklearn.model_selection import train_test_split\n",
        "\n",
        "RANDOM_SEED = 42"
      ]
    },
    {
      "cell_type": "markdown",
      "metadata": {
        "id": "t2HDvhIu9hEr"
      },
      "source": [
        "# Specify each path"
      ]
    },
    {
      "cell_type": "code",
      "execution_count": 27,
      "metadata": {
        "id": "9NvZP2Zn9hEy"
      },
      "outputs": [],
      "source": [
        "dataset = 'model/keypoint_classifier/keypoint.csv'\n",
        "model_save_path = 'model/keypoint_classifier/keypoint_classifier.hdf5'\n",
        "tflite_save_path = 'model/keypoint_classifier/keypoint_classifier.tflite'"
      ]
    },
    {
      "cell_type": "markdown",
      "metadata": {
        "id": "s5oMH7x19hEz"
      },
      "source": [
        "# Set number of classes"
      ]
    },
    {
      "cell_type": "code",
      "execution_count": 28,
      "metadata": {
        "id": "du4kodXL9hEz"
      },
      "outputs": [],
      "source": [
        "NUM_CLASSES = 4"
      ]
    },
    {
      "cell_type": "markdown",
      "metadata": {
        "id": "XjnL0uso9hEz"
      },
      "source": [
        "# Dataset reading"
      ]
    },
    {
      "cell_type": "code",
      "execution_count": 29,
      "metadata": {
        "id": "QT5ZqtEz9hE0"
      },
      "outputs": [],
      "source": [
        "X_dataset = np.loadtxt(dataset, delimiter=',', dtype='float32', usecols=list(range(1, (21 * 2) + 1)))"
      ]
    },
    {
      "cell_type": "code",
      "execution_count": 30,
      "metadata": {
        "id": "QmoKFsp49hE0"
      },
      "outputs": [],
      "source": [
        "y_dataset = np.loadtxt(dataset, delimiter=',', dtype='int32', usecols=(0))"
      ]
    },
    {
      "cell_type": "code",
      "execution_count": 31,
      "metadata": {
        "id": "xQU7JTZ_9hE0"
      },
      "outputs": [],
      "source": [
        "X_train, X_test, y_train, y_test = train_test_split(X_dataset, y_dataset, train_size=0.75, random_state=RANDOM_SEED)"
      ]
    },
    {
      "cell_type": "markdown",
      "metadata": {
        "id": "mxK_lETT9hE0"
      },
      "source": [
        "# Model building"
      ]
    },
    {
      "cell_type": "code",
      "execution_count": 32,
      "metadata": {
        "id": "vHBmUf1t9hE1"
      },
      "outputs": [],
      "source": [
        "model = tf.keras.models.Sequential([\n",
        "    tf.keras.layers.Input((21 * 2, )),\n",
        "    tf.keras.layers.Dropout(0.2),\n",
        "    tf.keras.layers.Dense(20, activation='relu'),\n",
        "    tf.keras.layers.Dropout(0.4),\n",
        "    tf.keras.layers.Dense(10, activation='relu'),\n",
        "    tf.keras.layers.Dense(NUM_CLASSES, activation='softmax')\n",
        "])"
      ]
    },
    {
      "cell_type": "code",
      "execution_count": 33,
      "metadata": {
        "colab": {
          "base_uri": "https://localhost:8080/"
        },
        "id": "ypqky9tc9hE1",
        "outputId": "5db082bb-30e3-4110-bf63-a1ee777ecd46"
      },
      "outputs": [
        {
          "name": "stdout",
          "output_type": "stream",
          "text": [
            "Model: \"sequential_1\"\n",
            "_________________________________________________________________\n",
            " Layer (type)                Output Shape              Param #   \n",
            "=================================================================\n",
            " dropout_2 (Dropout)         (None, 42)                0         \n",
            "                                                                 \n",
            " dense_3 (Dense)             (None, 20)                860       \n",
            "                                                                 \n",
            " dropout_3 (Dropout)         (None, 20)                0         \n",
            "                                                                 \n",
            " dense_4 (Dense)             (None, 10)                210       \n",
            "                                                                 \n",
            " dense_5 (Dense)             (None, 4)                 44        \n",
            "                                                                 \n",
            "=================================================================\n",
            "Total params: 1,114\n",
            "Trainable params: 1,114\n",
            "Non-trainable params: 0\n",
            "_________________________________________________________________\n"
          ]
        }
      ],
      "source": [
        "model.summary()  # tf.keras.utils.plot_model(model, show_shapes=True)"
      ]
    },
    {
      "cell_type": "code",
      "execution_count": 34,
      "metadata": {
        "id": "MbMjOflQ9hE1"
      },
      "outputs": [],
      "source": [
        "# Model checkpoint callback\n",
        "cp_callback = tf.keras.callbacks.ModelCheckpoint(\n",
        "    model_save_path, verbose=1, save_weights_only=False)\n",
        "# Callback for early stopping\n",
        "es_callback = tf.keras.callbacks.EarlyStopping(patience=20, verbose=1)"
      ]
    },
    {
      "cell_type": "code",
      "execution_count": 35,
      "metadata": {
        "id": "c3Dac0M_9hE2"
      },
      "outputs": [],
      "source": [
        "# Model compilation\n",
        "model.compile(\n",
        "    optimizer='adam',\n",
        "    loss='sparse_categorical_crossentropy',\n",
        "    metrics=['accuracy']\n",
        ")"
      ]
    },
    {
      "cell_type": "markdown",
      "metadata": {
        "id": "7XI0j1Iu9hE2"
      },
      "source": [
        "# Model training"
      ]
    },
    {
      "cell_type": "code",
      "execution_count": 36,
      "metadata": {
        "colab": {
          "base_uri": "https://localhost:8080/"
        },
        "id": "WirBl-JE9hE3",
        "outputId": "71b30ca2-8294-4d9d-8aa2-800d90d399de",
        "scrolled": true
      },
      "outputs": [
        {
          "name": "stdout",
          "output_type": "stream",
          "text": [
            "Epoch 1/1000\n",
            "107/118 [==========================>...] - ETA: 0s - loss: 1.3470 - accuracy: 0.3334\n",
            "Epoch 1: saving model to model/keypoint_classifier\\keypoint_classifier.hdf5\n",
            "118/118 [==============================] - 2s 9ms/step - loss: 1.3415 - accuracy: 0.3401 - val_loss: 1.2310 - val_accuracy: 0.4934\n",
            "Epoch 2/1000\n",
            "107/118 [==========================>...] - ETA: 0s - loss: 1.2238 - accuracy: 0.4497\n",
            "Epoch 2: saving model to model/keypoint_classifier\\keypoint_classifier.hdf5\n",
            "118/118 [==============================] - 1s 5ms/step - loss: 1.2182 - accuracy: 0.4527 - val_loss: 1.0594 - val_accuracy: 0.6602\n",
            "Epoch 3/1000\n",
            "110/118 [==========================>...] - ETA: 0s - loss: 1.1111 - accuracy: 0.5303\n",
            "Epoch 3: saving model to model/keypoint_classifier\\keypoint_classifier.hdf5\n",
            "118/118 [==============================] - 1s 5ms/step - loss: 1.1084 - accuracy: 0.5312 - val_loss: 0.9075 - val_accuracy: 0.7592\n",
            "Epoch 4/1000\n",
            "109/118 [==========================>...] - ETA: 0s - loss: 1.0351 - accuracy: 0.5695\n",
            "Epoch 4: saving model to model/keypoint_classifier\\keypoint_classifier.hdf5\n",
            "118/118 [==============================] - 1s 5ms/step - loss: 1.0323 - accuracy: 0.5707 - val_loss: 0.7990 - val_accuracy: 0.7836\n",
            "Epoch 5/1000\n",
            "110/118 [==========================>...] - ETA: 0s - loss: 0.9659 - accuracy: 0.6065\n",
            "Epoch 5: saving model to model/keypoint_classifier\\keypoint_classifier.hdf5\n",
            "118/118 [==============================] - 1s 5ms/step - loss: 0.9663 - accuracy: 0.6066 - val_loss: 0.7074 - val_accuracy: 0.8236\n",
            "Epoch 6/1000\n",
            "109/118 [==========================>...] - ETA: 0s - loss: 0.9200 - accuracy: 0.6256\n",
            "Epoch 6: saving model to model/keypoint_classifier\\keypoint_classifier.hdf5\n",
            "118/118 [==============================] - 1s 5ms/step - loss: 0.9209 - accuracy: 0.6258 - val_loss: 0.6454 - val_accuracy: 0.8467\n",
            "Epoch 7/1000\n",
            "111/118 [===========================>..] - ETA: 0s - loss: 0.8778 - accuracy: 0.6481\n",
            "Epoch 7: saving model to model/keypoint_classifier\\keypoint_classifier.hdf5\n",
            "118/118 [==============================] - 1s 5ms/step - loss: 0.8793 - accuracy: 0.6468 - val_loss: 0.5973 - val_accuracy: 0.8557\n",
            "Epoch 8/1000\n",
            "111/118 [===========================>..] - ETA: 0s - loss: 0.8532 - accuracy: 0.6567\n",
            "Epoch 8: saving model to model/keypoint_classifier\\keypoint_classifier.hdf5\n",
            "118/118 [==============================] - 1s 5ms/step - loss: 0.8547 - accuracy: 0.6574 - val_loss: 0.5547 - val_accuracy: 0.8698\n",
            "Epoch 9/1000\n",
            "109/118 [==========================>...] - ETA: 0s - loss: 0.8283 - accuracy: 0.6710\n",
            "Epoch 9: saving model to model/keypoint_classifier\\keypoint_classifier.hdf5\n",
            "118/118 [==============================] - 1s 5ms/step - loss: 0.8312 - accuracy: 0.6704 - val_loss: 0.5206 - val_accuracy: 0.8826\n",
            "Epoch 10/1000\n",
            "109/118 [==========================>...] - ETA: 0s - loss: 0.8167 - accuracy: 0.6811\n",
            "Epoch 10: saving model to model/keypoint_classifier\\keypoint_classifier.hdf5\n",
            "118/118 [==============================] - 1s 5ms/step - loss: 0.8175 - accuracy: 0.6810 - val_loss: 0.4966 - val_accuracy: 0.8873\n",
            "Epoch 11/1000\n",
            "111/118 [===========================>..] - ETA: 0s - loss: 0.7930 - accuracy: 0.6886\n",
            "Epoch 11: saving model to model/keypoint_classifier\\keypoint_classifier.hdf5\n",
            "118/118 [==============================] - 1s 6ms/step - loss: 0.7922 - accuracy: 0.6889 - val_loss: 0.4693 - val_accuracy: 0.8929\n",
            "Epoch 12/1000\n",
            "111/118 [===========================>..] - ETA: 0s - loss: 0.7864 - accuracy: 0.6900\n",
            "Epoch 12: saving model to model/keypoint_classifier\\keypoint_classifier.hdf5\n",
            "118/118 [==============================] - 1s 5ms/step - loss: 0.7868 - accuracy: 0.6902 - val_loss: 0.4580 - val_accuracy: 0.9023\n",
            "Epoch 13/1000\n",
            "110/118 [==========================>...] - ETA: 0s - loss: 0.7687 - accuracy: 0.6972\n",
            "Epoch 13: saving model to model/keypoint_classifier\\keypoint_classifier.hdf5\n",
            "118/118 [==============================] - 1s 5ms/step - loss: 0.7667 - accuracy: 0.6984 - val_loss: 0.4431 - val_accuracy: 0.9035\n",
            "Epoch 14/1000\n",
            "112/118 [===========================>..] - ETA: 0s - loss: 0.7607 - accuracy: 0.6972\n",
            "Epoch 14: saving model to model/keypoint_classifier\\keypoint_classifier.hdf5\n",
            "118/118 [==============================] - 1s 5ms/step - loss: 0.7622 - accuracy: 0.6975 - val_loss: 0.4371 - val_accuracy: 0.9025\n",
            "Epoch 15/1000\n",
            "106/118 [=========================>....] - ETA: 0s - loss: 0.7531 - accuracy: 0.7073\n",
            "Epoch 15: saving model to model/keypoint_classifier\\keypoint_classifier.hdf5\n",
            "118/118 [==============================] - 1s 5ms/step - loss: 0.7550 - accuracy: 0.7075 - val_loss: 0.4255 - val_accuracy: 0.9041\n",
            "Epoch 16/1000\n",
            "111/118 [===========================>..] - ETA: 0s - loss: 0.7386 - accuracy: 0.7116\n",
            "Epoch 16: saving model to model/keypoint_classifier\\keypoint_classifier.hdf5\n",
            "118/118 [==============================] - 1s 5ms/step - loss: 0.7388 - accuracy: 0.7114 - val_loss: 0.4105 - val_accuracy: 0.9031\n",
            "Epoch 17/1000\n",
            "110/118 [==========================>...] - ETA: 0s - loss: 0.7487 - accuracy: 0.7131\n",
            "Epoch 17: saving model to model/keypoint_classifier\\keypoint_classifier.hdf5\n",
            "118/118 [==============================] - 1s 5ms/step - loss: 0.7465 - accuracy: 0.7144 - val_loss: 0.4019 - val_accuracy: 0.9162\n",
            "Epoch 18/1000\n",
            "111/118 [===========================>..] - ETA: 0s - loss: 0.7364 - accuracy: 0.7146\n",
            "Epoch 18: saving model to model/keypoint_classifier\\keypoint_classifier.hdf5\n",
            "118/118 [==============================] - 1s 5ms/step - loss: 0.7352 - accuracy: 0.7150 - val_loss: 0.4003 - val_accuracy: 0.9168\n",
            "Epoch 19/1000\n",
            "110/118 [==========================>...] - ETA: 0s - loss: 0.7329 - accuracy: 0.7149\n",
            "Epoch 19: saving model to model/keypoint_classifier\\keypoint_classifier.hdf5\n",
            "118/118 [==============================] - 1s 5ms/step - loss: 0.7327 - accuracy: 0.7148 - val_loss: 0.3979 - val_accuracy: 0.9164\n",
            "Epoch 20/1000\n",
            "101/118 [========================>.....] - ETA: 0s - loss: 0.7193 - accuracy: 0.7213\n",
            "Epoch 20: saving model to model/keypoint_classifier\\keypoint_classifier.hdf5\n",
            "118/118 [==============================] - 0s 3ms/step - loss: 0.7245 - accuracy: 0.7196 - val_loss: 0.4032 - val_accuracy: 0.9070\n",
            "Epoch 21/1000\n",
            "111/118 [===========================>..] - ETA: 0s - loss: 0.7156 - accuracy: 0.7244\n",
            "Epoch 21: saving model to model/keypoint_classifier\\keypoint_classifier.hdf5\n",
            "118/118 [==============================] - 0s 3ms/step - loss: 0.7164 - accuracy: 0.7235 - val_loss: 0.3865 - val_accuracy: 0.9160\n",
            "Epoch 22/1000\n",
            "116/118 [============================>.] - ETA: 0s - loss: 0.7217 - accuracy: 0.7221\n",
            "Epoch 22: saving model to model/keypoint_classifier\\keypoint_classifier.hdf5\n",
            "118/118 [==============================] - 1s 8ms/step - loss: 0.7223 - accuracy: 0.7220 - val_loss: 0.3922 - val_accuracy: 0.9154\n",
            "Epoch 23/1000\n",
            "112/118 [===========================>..] - ETA: 0s - loss: 0.7140 - accuracy: 0.7277\n",
            "Epoch 23: saving model to model/keypoint_classifier\\keypoint_classifier.hdf5\n",
            "118/118 [==============================] - 0s 3ms/step - loss: 0.7153 - accuracy: 0.7270 - val_loss: 0.3824 - val_accuracy: 0.9216\n",
            "Epoch 24/1000\n",
            "116/118 [============================>.] - ETA: 0s - loss: 0.7070 - accuracy: 0.7313\n",
            "Epoch 24: saving model to model/keypoint_classifier\\keypoint_classifier.hdf5\n",
            "118/118 [==============================] - 0s 3ms/step - loss: 0.7078 - accuracy: 0.7307 - val_loss: 0.3914 - val_accuracy: 0.9108\n",
            "Epoch 25/1000\n",
            "114/118 [===========================>..] - ETA: 0s - loss: 0.7007 - accuracy: 0.7343\n",
            "Epoch 25: saving model to model/keypoint_classifier\\keypoint_classifier.hdf5\n",
            "118/118 [==============================] - 0s 3ms/step - loss: 0.7017 - accuracy: 0.7335 - val_loss: 0.3758 - val_accuracy: 0.9186\n",
            "Epoch 26/1000\n",
            "117/118 [============================>.] - ETA: 0s - loss: 0.6939 - accuracy: 0.7374\n",
            "Epoch 26: saving model to model/keypoint_classifier\\keypoint_classifier.hdf5\n",
            "118/118 [==============================] - 0s 3ms/step - loss: 0.6942 - accuracy: 0.7370 - val_loss: 0.3788 - val_accuracy: 0.9126\n",
            "Epoch 27/1000\n",
            "114/118 [===========================>..] - ETA: 0s - loss: 0.7031 - accuracy: 0.7328\n",
            "Epoch 27: saving model to model/keypoint_classifier\\keypoint_classifier.hdf5\n",
            "118/118 [==============================] - 0s 3ms/step - loss: 0.7023 - accuracy: 0.7326 - val_loss: 0.3773 - val_accuracy: 0.9170\n",
            "Epoch 28/1000\n",
            "116/118 [============================>.] - ETA: 0s - loss: 0.6943 - accuracy: 0.7336\n",
            "Epoch 28: saving model to model/keypoint_classifier\\keypoint_classifier.hdf5\n",
            "118/118 [==============================] - 0s 3ms/step - loss: 0.6948 - accuracy: 0.7336 - val_loss: 0.3675 - val_accuracy: 0.9246\n",
            "Epoch 29/1000\n",
            "112/118 [===========================>..] - ETA: 0s - loss: 0.7045 - accuracy: 0.7328\n",
            "Epoch 29: saving model to model/keypoint_classifier\\keypoint_classifier.hdf5\n",
            "118/118 [==============================] - 0s 3ms/step - loss: 0.7054 - accuracy: 0.7331 - val_loss: 0.3764 - val_accuracy: 0.9184\n",
            "Epoch 30/1000\n",
            "111/118 [===========================>..] - ETA: 0s - loss: 0.6977 - accuracy: 0.7347\n",
            "Epoch 30: saving model to model/keypoint_classifier\\keypoint_classifier.hdf5\n",
            "118/118 [==============================] - 0s 3ms/step - loss: 0.7014 - accuracy: 0.7332 - val_loss: 0.3692 - val_accuracy: 0.9264\n",
            "Epoch 31/1000\n",
            "112/118 [===========================>..] - ETA: 0s - loss: 0.6952 - accuracy: 0.7340\n",
            "Epoch 31: saving model to model/keypoint_classifier\\keypoint_classifier.hdf5\n",
            "118/118 [==============================] - 0s 3ms/step - loss: 0.6975 - accuracy: 0.7341 - val_loss: 0.3788 - val_accuracy: 0.9134\n",
            "Epoch 32/1000\n",
            "111/118 [===========================>..] - ETA: 0s - loss: 0.6860 - accuracy: 0.7437\n",
            "Epoch 32: saving model to model/keypoint_classifier\\keypoint_classifier.hdf5\n",
            "118/118 [==============================] - 0s 3ms/step - loss: 0.6881 - accuracy: 0.7424 - val_loss: 0.3722 - val_accuracy: 0.9164\n",
            "Epoch 33/1000\n",
            "104/118 [=========================>....] - ETA: 0s - loss: 0.6942 - accuracy: 0.7359\n",
            "Epoch 33: saving model to model/keypoint_classifier\\keypoint_classifier.hdf5\n",
            "118/118 [==============================] - 0s 3ms/step - loss: 0.6915 - accuracy: 0.7374 - val_loss: 0.3743 - val_accuracy: 0.9142\n",
            "Epoch 34/1000\n",
            " 89/118 [=====================>........] - ETA: 0s - loss: 0.6843 - accuracy: 0.7371\n",
            "Epoch 34: saving model to model/keypoint_classifier\\keypoint_classifier.hdf5\n",
            "118/118 [==============================] - 0s 2ms/step - loss: 0.6824 - accuracy: 0.7418 - val_loss: 0.3660 - val_accuracy: 0.9190\n",
            "Epoch 35/1000\n",
            "116/118 [============================>.] - ETA: 0s - loss: 0.6903 - accuracy: 0.7336\n",
            "Epoch 35: saving model to model/keypoint_classifier\\keypoint_classifier.hdf5\n",
            "118/118 [==============================] - 0s 3ms/step - loss: 0.6918 - accuracy: 0.7331 - val_loss: 0.3732 - val_accuracy: 0.9214\n",
            "Epoch 36/1000\n",
            "116/118 [============================>.] - ETA: 0s - loss: 0.6957 - accuracy: 0.7327\n",
            "Epoch 36: saving model to model/keypoint_classifier\\keypoint_classifier.hdf5\n",
            "118/118 [==============================] - 1s 6ms/step - loss: 0.6960 - accuracy: 0.7324 - val_loss: 0.3662 - val_accuracy: 0.9268\n",
            "Epoch 37/1000\n",
            "110/118 [==========================>...] - ETA: 0s - loss: 0.6848 - accuracy: 0.7362\n",
            "Epoch 37: saving model to model/keypoint_classifier\\keypoint_classifier.hdf5\n",
            "118/118 [==============================] - 0s 4ms/step - loss: 0.6844 - accuracy: 0.7371 - val_loss: 0.3687 - val_accuracy: 0.9240\n",
            "Epoch 38/1000\n",
            "116/118 [============================>.] - ETA: 0s - loss: 0.6660 - accuracy: 0.7460\n",
            "Epoch 38: saving model to model/keypoint_classifier\\keypoint_classifier.hdf5\n",
            "118/118 [==============================] - 0s 3ms/step - loss: 0.6663 - accuracy: 0.7457 - val_loss: 0.3594 - val_accuracy: 0.9254\n",
            "Epoch 39/1000\n",
            "116/118 [============================>.] - ETA: 0s - loss: 0.6807 - accuracy: 0.7423\n",
            "Epoch 39: saving model to model/keypoint_classifier\\keypoint_classifier.hdf5\n",
            "118/118 [==============================] - 0s 3ms/step - loss: 0.6812 - accuracy: 0.7416 - val_loss: 0.3635 - val_accuracy: 0.9260\n",
            "Epoch 40/1000\n",
            "113/118 [===========================>..] - ETA: 0s - loss: 0.6675 - accuracy: 0.7448\n",
            "Epoch 40: saving model to model/keypoint_classifier\\keypoint_classifier.hdf5\n",
            "118/118 [==============================] - 0s 3ms/step - loss: 0.6675 - accuracy: 0.7451 - val_loss: 0.3651 - val_accuracy: 0.9170\n",
            "Epoch 41/1000\n",
            "118/118 [==============================] - ETA: 0s - loss: 0.6786 - accuracy: 0.7420\n",
            "Epoch 41: saving model to model/keypoint_classifier\\keypoint_classifier.hdf5\n",
            "118/118 [==============================] - 0s 3ms/step - loss: 0.6786 - accuracy: 0.7420 - val_loss: 0.3612 - val_accuracy: 0.9305\n",
            "Epoch 42/1000\n",
            "113/118 [===========================>..] - ETA: 0s - loss: 0.6731 - accuracy: 0.7412\n",
            "Epoch 42: saving model to model/keypoint_classifier\\keypoint_classifier.hdf5\n",
            "118/118 [==============================] - 0s 3ms/step - loss: 0.6740 - accuracy: 0.7419 - val_loss: 0.3670 - val_accuracy: 0.9266\n",
            "Epoch 43/1000\n",
            "109/118 [==========================>...] - ETA: 0s - loss: 0.6721 - accuracy: 0.7440\n",
            "Epoch 43: saving model to model/keypoint_classifier\\keypoint_classifier.hdf5\n",
            "118/118 [==============================] - 0s 3ms/step - loss: 0.6709 - accuracy: 0.7456 - val_loss: 0.3658 - val_accuracy: 0.9212\n",
            "Epoch 44/1000\n",
            "114/118 [===========================>..] - ETA: 0s - loss: 0.6801 - accuracy: 0.7397\n",
            "Epoch 44: saving model to model/keypoint_classifier\\keypoint_classifier.hdf5\n",
            "118/118 [==============================] - 0s 3ms/step - loss: 0.6792 - accuracy: 0.7399 - val_loss: 0.3697 - val_accuracy: 0.9176\n",
            "Epoch 45/1000\n",
            "111/118 [===========================>..] - ETA: 0s - loss: 0.6718 - accuracy: 0.7437\n",
            "Epoch 45: saving model to model/keypoint_classifier\\keypoint_classifier.hdf5\n",
            "118/118 [==============================] - 0s 4ms/step - loss: 0.6720 - accuracy: 0.7432 - val_loss: 0.3597 - val_accuracy: 0.9281\n",
            "Epoch 46/1000\n",
            "111/118 [===========================>..] - ETA: 0s - loss: 0.6739 - accuracy: 0.7436\n",
            "Epoch 46: saving model to model/keypoint_classifier\\keypoint_classifier.hdf5\n",
            "118/118 [==============================] - 1s 5ms/step - loss: 0.6733 - accuracy: 0.7435 - val_loss: 0.3609 - val_accuracy: 0.9273\n",
            "Epoch 47/1000\n",
            "110/118 [==========================>...] - ETA: 0s - loss: 0.6613 - accuracy: 0.7483\n",
            "Epoch 47: saving model to model/keypoint_classifier\\keypoint_classifier.hdf5\n",
            "118/118 [==============================] - 1s 5ms/step - loss: 0.6647 - accuracy: 0.7465 - val_loss: 0.3630 - val_accuracy: 0.9234\n",
            "Epoch 48/1000\n",
            "115/118 [============================>.] - ETA: 0s - loss: 0.6737 - accuracy: 0.7474\n",
            "Epoch 48: saving model to model/keypoint_classifier\\keypoint_classifier.hdf5\n",
            "118/118 [==============================] - 0s 3ms/step - loss: 0.6732 - accuracy: 0.7474 - val_loss: 0.3515 - val_accuracy: 0.9329\n",
            "Epoch 49/1000\n",
            "116/118 [============================>.] - ETA: 0s - loss: 0.6822 - accuracy: 0.7391\n",
            "Epoch 49: saving model to model/keypoint_classifier\\keypoint_classifier.hdf5\n",
            "118/118 [==============================] - 0s 3ms/step - loss: 0.6815 - accuracy: 0.7395 - val_loss: 0.3671 - val_accuracy: 0.9250\n",
            "Epoch 50/1000\n",
            "116/118 [============================>.] - ETA: 0s - loss: 0.6732 - accuracy: 0.7444\n",
            "Epoch 50: saving model to model/keypoint_classifier\\keypoint_classifier.hdf5\n",
            "118/118 [==============================] - 0s 3ms/step - loss: 0.6735 - accuracy: 0.7445 - val_loss: 0.3648 - val_accuracy: 0.9256\n",
            "Epoch 51/1000\n",
            "113/118 [===========================>..] - ETA: 0s - loss: 0.6663 - accuracy: 0.7463\n",
            "Epoch 51: saving model to model/keypoint_classifier\\keypoint_classifier.hdf5\n",
            "118/118 [==============================] - 0s 3ms/step - loss: 0.6666 - accuracy: 0.7466 - val_loss: 0.3680 - val_accuracy: 0.9134\n",
            "Epoch 52/1000\n",
            "112/118 [===========================>..] - ETA: 0s - loss: 0.6610 - accuracy: 0.7521\n",
            "Epoch 52: saving model to model/keypoint_classifier\\keypoint_classifier.hdf5\n",
            "118/118 [==============================] - 1s 7ms/step - loss: 0.6618 - accuracy: 0.7516 - val_loss: 0.3703 - val_accuracy: 0.9108\n",
            "Epoch 53/1000\n",
            "114/118 [===========================>..] - ETA: 0s - loss: 0.6682 - accuracy: 0.7442\n",
            "Epoch 53: saving model to model/keypoint_classifier\\keypoint_classifier.hdf5\n",
            "118/118 [==============================] - 1s 5ms/step - loss: 0.6686 - accuracy: 0.7440 - val_loss: 0.3762 - val_accuracy: 0.9108\n",
            "Epoch 54/1000\n",
            "113/118 [===========================>..] - ETA: 0s - loss: 0.6602 - accuracy: 0.7492\n",
            "Epoch 54: saving model to model/keypoint_classifier\\keypoint_classifier.hdf5\n",
            "118/118 [==============================] - 1s 8ms/step - loss: 0.6598 - accuracy: 0.7493 - val_loss: 0.3598 - val_accuracy: 0.9214\n",
            "Epoch 55/1000\n",
            "117/118 [============================>.] - ETA: 0s - loss: 0.6741 - accuracy: 0.7417\n",
            "Epoch 55: saving model to model/keypoint_classifier\\keypoint_classifier.hdf5\n",
            "118/118 [==============================] - 1s 5ms/step - loss: 0.6735 - accuracy: 0.7421 - val_loss: 0.3711 - val_accuracy: 0.9156\n",
            "Epoch 56/1000\n",
            "111/118 [===========================>..] - ETA: 0s - loss: 0.6716 - accuracy: 0.7432\n",
            "Epoch 56: saving model to model/keypoint_classifier\\keypoint_classifier.hdf5\n",
            "118/118 [==============================] - 1s 5ms/step - loss: 0.6694 - accuracy: 0.7439 - val_loss: 0.3744 - val_accuracy: 0.9118\n",
            "Epoch 57/1000\n",
            "114/118 [===========================>..] - ETA: 0s - loss: 0.6599 - accuracy: 0.7479\n",
            "Epoch 57: saving model to model/keypoint_classifier\\keypoint_classifier.hdf5\n",
            "118/118 [==============================] - 0s 4ms/step - loss: 0.6622 - accuracy: 0.7470 - val_loss: 0.3712 - val_accuracy: 0.9124\n",
            "Epoch 58/1000\n",
            "116/118 [============================>.] - ETA: 0s - loss: 0.6613 - accuracy: 0.7512\n",
            "Epoch 58: saving model to model/keypoint_classifier\\keypoint_classifier.hdf5\n",
            "118/118 [==============================] - 0s 3ms/step - loss: 0.6611 - accuracy: 0.7514 - val_loss: 0.3687 - val_accuracy: 0.9176\n",
            "Epoch 59/1000\n",
            "118/118 [==============================] - ETA: 0s - loss: 0.6516 - accuracy: 0.7517\n",
            "Epoch 59: saving model to model/keypoint_classifier\\keypoint_classifier.hdf5\n",
            "118/118 [==============================] - 0s 3ms/step - loss: 0.6516 - accuracy: 0.7517 - val_loss: 0.3670 - val_accuracy: 0.9138\n",
            "Epoch 60/1000\n",
            "115/118 [============================>.] - ETA: 0s - loss: 0.6676 - accuracy: 0.7501\n",
            "Epoch 60: saving model to model/keypoint_classifier\\keypoint_classifier.hdf5\n",
            "118/118 [==============================] - 0s 3ms/step - loss: 0.6667 - accuracy: 0.7503 - val_loss: 0.3563 - val_accuracy: 0.9230\n",
            "Epoch 61/1000\n",
            "117/118 [============================>.] - ETA: 0s - loss: 0.6564 - accuracy: 0.7491\n",
            "Epoch 61: saving model to model/keypoint_classifier\\keypoint_classifier.hdf5\n",
            "118/118 [==============================] - 0s 3ms/step - loss: 0.6573 - accuracy: 0.7488 - val_loss: 0.3684 - val_accuracy: 0.9146\n",
            "Epoch 62/1000\n",
            "116/118 [============================>.] - ETA: 0s - loss: 0.6557 - accuracy: 0.7493\n",
            "Epoch 62: saving model to model/keypoint_classifier\\keypoint_classifier.hdf5\n",
            "118/118 [==============================] - 0s 3ms/step - loss: 0.6569 - accuracy: 0.7491 - val_loss: 0.3732 - val_accuracy: 0.9118\n",
            "Epoch 63/1000\n",
            "116/118 [============================>.] - ETA: 0s - loss: 0.6504 - accuracy: 0.7545\n",
            "Epoch 63: saving model to model/keypoint_classifier\\keypoint_classifier.hdf5\n",
            "118/118 [==============================] - 0s 2ms/step - loss: 0.6521 - accuracy: 0.7545 - val_loss: 0.3687 - val_accuracy: 0.9138\n",
            "Epoch 64/1000\n",
            "115/118 [============================>.] - ETA: 0s - loss: 0.6591 - accuracy: 0.7499\n",
            "Epoch 64: saving model to model/keypoint_classifier\\keypoint_classifier.hdf5\n",
            "118/118 [==============================] - 1s 6ms/step - loss: 0.6583 - accuracy: 0.7501 - val_loss: 0.3660 - val_accuracy: 0.9188\n",
            "Epoch 65/1000\n",
            "116/118 [============================>.] - ETA: 0s - loss: 0.6578 - accuracy: 0.7531\n",
            "Epoch 65: saving model to model/keypoint_classifier\\keypoint_classifier.hdf5\n",
            "118/118 [==============================] - 0s 3ms/step - loss: 0.6597 - accuracy: 0.7524 - val_loss: 0.3697 - val_accuracy: 0.9124\n",
            "Epoch 66/1000\n",
            "116/118 [============================>.] - ETA: 0s - loss: 0.6557 - accuracy: 0.7548\n",
            "Epoch 66: saving model to model/keypoint_classifier\\keypoint_classifier.hdf5\n",
            "118/118 [==============================] - 0s 3ms/step - loss: 0.6569 - accuracy: 0.7542 - val_loss: 0.3705 - val_accuracy: 0.9096\n",
            "Epoch 67/1000\n",
            "118/118 [==============================] - ETA: 0s - loss: 0.6672 - accuracy: 0.7469\n",
            "Epoch 67: saving model to model/keypoint_classifier\\keypoint_classifier.hdf5\n",
            "118/118 [==============================] - 0s 3ms/step - loss: 0.6672 - accuracy: 0.7469 - val_loss: 0.3753 - val_accuracy: 0.9140\n",
            "Epoch 68/1000\n",
            "116/118 [============================>.] - ETA: 0s - loss: 0.6552 - accuracy: 0.7490\n",
            "Epoch 68: saving model to model/keypoint_classifier\\keypoint_classifier.hdf5\n",
            "118/118 [==============================] - 0s 3ms/step - loss: 0.6545 - accuracy: 0.7495 - val_loss: 0.3678 - val_accuracy: 0.9250\n",
            "Epoch 68: early stopping\n"
          ]
        },
        {
          "data": {
            "text/plain": [
              "<keras.callbacks.History at 0x18d65468848>"
            ]
          },
          "execution_count": 36,
          "metadata": {},
          "output_type": "execute_result"
        }
      ],
      "source": [
        "model.fit(\n",
        "    X_train,\n",
        "    y_train,\n",
        "    epochs=1000,\n",
        "    batch_size=128,\n",
        "    validation_data=(X_test, y_test),\n",
        "    callbacks=[cp_callback, es_callback]\n",
        ")"
      ]
    },
    {
      "cell_type": "code",
      "execution_count": 37,
      "metadata": {
        "colab": {
          "base_uri": "https://localhost:8080/"
        },
        "id": "pxvb2Y299hE3",
        "outputId": "59eb3185-2e37-4b9e-bc9d-ab1b8ac29b7f"
      },
      "outputs": [
        {
          "name": "stdout",
          "output_type": "stream",
          "text": [
            "40/40 [==============================] - 0s 1ms/step - loss: 0.3678 - accuracy: 0.9250\n"
          ]
        }
      ],
      "source": [
        "# Model evaluation\n",
        "val_loss, val_acc = model.evaluate(X_test, y_test, batch_size=128)"
      ]
    },
    {
      "cell_type": "code",
      "execution_count": 38,
      "metadata": {
        "id": "RBkmDeUW9hE4"
      },
      "outputs": [],
      "source": [
        "# Loading the saved model\n",
        "model = tf.keras.models.load_model(model_save_path)"
      ]
    },
    {
      "cell_type": "code",
      "execution_count": 39,
      "metadata": {
        "colab": {
          "base_uri": "https://localhost:8080/"
        },
        "id": "tFz9Tb0I9hE4",
        "outputId": "1c3b3528-54ae-4ee2-ab04-77429211cbef"
      },
      "outputs": [
        {
          "name": "stdout",
          "output_type": "stream",
          "text": [
            "1/1 [==============================] - 0s 52ms/step\n",
            "[0.03205861 0.14475398 0.6081555  0.21503192]\n",
            "2\n"
          ]
        }
      ],
      "source": [
        "# Inference test\n",
        "predict_result = model.predict(np.array([X_test[0]]))\n",
        "print(np.squeeze(predict_result))\n",
        "print(np.argmax(np.squeeze(predict_result)))"
      ]
    },
    {
      "cell_type": "markdown",
      "metadata": {
        "id": "S3U4yNWx9hE4"
      },
      "source": [
        "# Confusion matrix"
      ]
    },
    {
      "cell_type": "code",
      "execution_count": 40,
      "metadata": {
        "colab": {
          "base_uri": "https://localhost:8080/",
          "height": 582
        },
        "id": "AP1V6SCk9hE5",
        "outputId": "08e41a80-7a4a-4619-8125-ecc371368d19"
      },
      "outputs": [
        {
          "name": "stdout",
          "output_type": "stream",
          "text": [
            "157/157 [==============================] - 0s 1ms/step\n"
          ]
        },
        {
          "data": {
            "image/png": "[encoded data removed]",
            "text/plain": [
              "<Figure size 700x600 with 2 Axes>"
            ]
          },
          "metadata": {},
          "output_type": "display_data"
        },
        {
          "name": "stdout",
          "output_type": "stream",
          "text": [
            "Classification Report\n",
            "              precision    recall  f1-score   support\n",
            "\n",
            "           0       0.98      0.99      0.99      1259\n",
            "           1       0.99      0.85      0.91      1190\n",
            "           2       0.78      0.96      0.86      1137\n",
            "           3       0.97      0.90      0.93      1438\n",
            "\n",
            "    accuracy                           0.92      5024\n",
            "   macro avg       0.93      0.93      0.92      5024\n",
            "weighted avg       0.93      0.92      0.93      5024\n",
            "\n"
          ]
        }
      ],
      "source": [
        "import pandas as pd\n",
        "import seaborn as sns\n",
        "import matplotlib.pyplot as plt\n",
        "from sklearn.metrics import confusion_matrix, classification_report\n",
        "\n",
        "def print_confusion_matrix(y_true, y_pred, report=True):\n",
        "    labels = sorted(list(set(y_true)))\n",
        "    cmx_data = confusion_matrix(y_true, y_pred, labels=labels)\n",
        "    \n",
        "    df_cmx = pd.DataFrame(cmx_data, index=labels, columns=labels)\n",
        " \n",
        "    fig, ax = plt.subplots(figsize=(7, 6))\n",
        "    sns.heatmap(df_cmx, annot=True, fmt='g' ,square=False)\n",
        "    ax.set_ylim(len(set(y_true)), 0)\n",
        "    plt.show()\n",
        "    \n",
        "    if report:\n",
        "        print('Classification Report')\n",
        "        print(classification_report(y_test, y_pred))\n",
        "\n",
        "Y_pred = model.predict(X_test)\n",
        "y_pred = np.argmax(Y_pred, axis=1)\n",
        "\n",
        "print_confusion_matrix(y_test, y_pred)"
      ]
    },
    {
      "cell_type": "markdown",
      "metadata": {
        "id": "FNP6aqzc9hE5"
      },
      "source": [
        "# Convert to model for Tensorflow-Lite"
      ]
    },
    {
      "cell_type": "code",
      "execution_count": 41,
      "metadata": {
        "id": "ODjnYyld9hE6"
      },
      "outputs": [],
      "source": [
        "# Save as a model dedicated to inference\n",
        "model.save(model_save_path, include_optimizer=False)"
      ]
    },
    {
      "cell_type": "code",
      "execution_count": 42,
      "metadata": {
        "colab": {
          "base_uri": "https://localhost:8080/"
        },
        "id": "zRfuK8Y59hE6",
        "outputId": "a4ca585c-b5d5-4244-8291-8674063209bb"
      },
      "outputs": [
        {
          "name": "stderr",
          "output_type": "stream",
          "text": [
            "WARNING:absl:Found untraced functions such as _update_step_xla while saving (showing 1 of 1). These functions will not be directly callable after loading.\n"
          ]
        },
        {
          "name": "stdout",
          "output_type": "stream",
          "text": [
            "INFO:tensorflow:Assets written to: C:\\Users\\Omar\\AppData\\Local\\Temp\\tmpuefsy6oi\\assets\n"
          ]
        },
        {
          "name": "stderr",
          "output_type": "stream",
          "text": [
            "INFO:tensorflow:Assets written to: C:\\Users\\Omar\\AppData\\Local\\Temp\\tmpuefsy6oi\\assets\n"
          ]
        },
        {
          "data": {
            "text/plain": [
              "6572"
            ]
          },
          "execution_count": 42,
          "metadata": {},
          "output_type": "execute_result"
        }
      ],
      "source": [
        "# Transform model (quantization)\n",
        "\n",
        "converter = tf.lite.TFLiteConverter.from_keras_model(model)\n",
        "converter.optimizations = [tf.lite.Optimize.DEFAULT]\n",
        "tflite_quantized_model = converter.convert()\n",
        "\n",
        "open(tflite_save_path, 'wb').write(tflite_quantized_model)"
      ]
    },
    {
      "cell_type": "markdown",
      "metadata": {
        "id": "CHBPBXdx9hE6"
      },
      "source": [
        "# Inference test"
      ]
    },
    {
      "cell_type": "code",
      "execution_count": 43,
      "metadata": {
        "id": "mGAzLocO9hE7"
      },
      "outputs": [],
      "source": [
        "interpreter = tf.lite.Interpreter(model_path=tflite_save_path)\n",
        "interpreter.allocate_tensors()"
      ]
    },
    {
      "cell_type": "code",
      "execution_count": 44,
      "metadata": {
        "id": "oQuDK8YS9hE7"
      },
      "outputs": [],
      "source": [
        "# Get I / O tensor\n",
        "input_details = interpreter.get_input_details()\n",
        "output_details = interpreter.get_output_details()"
      ]
    },
    {
      "cell_type": "code",
      "execution_count": 45,
      "metadata": {
        "id": "2_ixAf_l9hE7"
      },
      "outputs": [],
      "source": [
        "interpreter.set_tensor(input_details[0]['index'], np.array([X_test[0]]))"
      ]
    },
    {
      "cell_type": "code",
      "execution_count": 46,
      "metadata": {
        "colab": {
          "base_uri": "https://localhost:8080/"
        },
        "id": "s4FoAnuc9hE7",
        "outputId": "91f18257-8d8b-4ef3-c558-e9b5f94fabbf",
        "scrolled": true
      },
      "outputs": [
        {
          "name": "stdout",
          "output_type": "stream",
          "text": [
            "Wall time: 0 ns\n"
          ]
        }
      ],
      "source": [
        "%%time\n",
        "# Inference implementation\n",
        "interpreter.invoke()\n",
        "tflite_results = interpreter.get_tensor(output_details[0]['index'])"
      ]
    },
    {
      "cell_type": "code",
      "execution_count": 47,
      "metadata": {
        "colab": {
          "base_uri": "https://localhost:8080/"
        },
        "id": "vONjp19J9hE8",
        "outputId": "77205e24-fd00-42c4-f7b6-e06e527c2cba"
      },
      "outputs": [
        {
          "name": "stdout",
          "output_type": "stream",
          "text": [
            "[0.03205862 0.14475401 0.60815555 0.21503183]\n",
            "2\n"
          ]
        }
      ],
      "source": [
        "print(np.squeeze(tflite_results))\n",
        "print(np.argmax(np.squeeze(tflite_results)))"
      ]
    }
  ],
  "metadata": {
    "accelerator": "GPU",
    "colab": {
      "collapsed_sections": [],
      "name": "keypoint_classification_EN.ipynb",
      "provenance": [],
      "toc_visible": true
    },
    "kernelspec": {
      "display_name": "Python 3",
      "language": "python",
      "name": "python3"
    },
    "language_info": {
      "codemirror_mode": {
        "name": "ipython",
        "version": 3
      },
      "file_extension": ".py",
      "mimetype": "text/x-python",
      "name": "python",
      "nbconvert_exporter": "python",
      "pygments_lexer": "ipython3",
      "version": "3.7.16"
    }
  },
  "nbformat": 4,
  "nbformat_minor": 0
}
